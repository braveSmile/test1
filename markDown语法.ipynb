{
 "cells": [
  {
   "cell_type": "markdown",
   "id": "486af1d9",
   "metadata": {},
   "source": [
    "<font color=#0099ff>color #0099ff</font>\n",
    "<font color=red>红色</font>\n"
   ]
  },
  {
   "cell_type": "markdown",
   "id": "a0653d23",
   "metadata": {},
   "source": [
    "常用颜色\n",
    "color=maroon\n",
    "color=grey\n",
    "color=silver\n",
    "color=lightgrey\n",
    "color=HotPink\n",
    "color=DeepPink\n",
    "color=VioletRed\n",
    "color=Purple\n",
    "color=navy\n",
    "color=Blue\n",
    "color=DeepSkyBlue\n",
    "color=LightSkyBlue\n",
    "color=aqua\n",
    "color=DarkTurquoise\n",
    "color=LightSeaGreen\n",
    "color=YellowGreen\n",
    "color=LawnGreen\n",
    "color=GreenYellow\n",
    "color=Yellow\n",
    "color=Tomato\n",
    "color=red\n",
    "color=fuchsia\n",
    "color=MediumOrchid\n",
    "color=DarkViolet\n"
   ]
  },
  {
   "cell_type": "markdown",
   "id": "051653ba",
   "metadata": {},
   "source": [
    "==highlight 1==\n",
    "<mark>highlight 2</mark>\n",
    "```code 1```\n",
    "`code 2`\n"
   ]
  },
  {
   "cell_type": "markdown",
   "id": "463f6a76",
   "metadata": {},
   "source": [
    "默认字体\n",
    "<font face=\"黑体\">黑体</font>\n",
    "<font face=\"微软雅黑\">微软雅黑</font>\n",
    "\n",
    "<font size=2 face=\"黑体\">黑体2号</font>\n",
    "\n",
    "<font color=red size=6 face=\"黑体\">红色6号黑体</font>\n"
   ]
  },
  {
   "cell_type": "code",
   "execution_count": null,
   "id": "f8fb4618",
   "metadata": {},
   "outputs": [],
   "source": []
  }
 ],
 "metadata": {
  "kernelspec": {
   "display_name": "Python 3",
   "language": "python",
   "name": "python3"
  },
  "language_info": {
   "codemirror_mode": {
    "name": "ipython",
    "version": 3
   },
   "file_extension": ".py",
   "mimetype": "text/x-python",
   "name": "python",
   "nbconvert_exporter": "python",
   "pygments_lexer": "ipython3",
   "version": "3.6.13"
  }
 },
 "nbformat": 4,
 "nbformat_minor": 5
}
